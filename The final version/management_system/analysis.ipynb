{
  "cells": [
    {
      "cell_type": "code",
      "execution_count": 5,
      "id": "bac8e11e",
      "metadata": {
        "id": "bac8e11e",
        "outputId": "55fb420c-d9c6-4958-a381-8a9a78450817",
        "colab": {
          "base_uri": "https://localhost:8080/"
        }
      },
      "outputs": [
        {
          "output_type": "stream",
          "name": "stdout",
          "text": [
            "The mean of first service is = 4.92\n",
            "_________________\n",
            " The first service :-\n",
            "The most crowded day is Thursday\n",
            "The least crowded day is Tuesday\n",
            "___________________\n"
          ]
        }
      ],
      "source": [
        "\n",
        "services = [\n",
        "    'اصدار رخصة سيارة اول مرة',\n",
        "    'تجديد رخصة سيارة',\n",
        "    'اصدار رخصة قيادة اول مرة',\n",
        "    'تجديد رخصة قيادة',\n",
        "    'اصدار بدل فاقد'\n",
        "]\n",
        "\n",
        "# Nested data: each item contains [date, day, [number of reservations]] for each service\n",
        "# Total allowed reservations should be max 10 for each time slot per day\n",
        "# Time slots[9:00AM, 10:00AM, 11:00AM, 12:00PM, 1:00PM]\n",
        "# Example: [\"13-04-2025\", \"Sunday\", [4, 6, 7, 8, 1]]:\n",
        "# 13-04-2025 → date\n",
        "# Sunday → week day\n",
        "# 9:00 AM → 4 people\n",
        "# 10:00 AM → 6 people\n",
        "# 11:00 AM → 7 person\n",
        "# 12:00 PM → 8 people\n",
        "# 1:00 PM → 1 people\n",
        "\n",
        "new_car_id = [\n",
        "    [\"13-04-2025\", \"Sunday\",    [4, 6, 7, 8, 1]],\n",
        "    [\"14-04-2025\", \"Monday\",    [2, 1, 8, 6, 4]],\n",
        "    [\"15-04-2025\", \"Tuesday\",   [3, 1, 6, 6, 4]],\n",
        "    [\"16-04-2025\", \"Wednesday\", [1, 6, 9, 8, 3]],\n",
        "    [\"17-04-2025\", \"Thursday\",  [4, 7, 7, 10, 1]]\n",
        "]\n",
        "\n",
        "renew_car_id = [\n",
        "    [\"13-04-2025\", \"Sunday\",    [4, 9, 7, 7, 1]],\n",
        "    [\"14-04-2025\", \"Monday\",    [3, 1, 7, 7, 3]],\n",
        "    [\"15-04-2025\", \"Tuesday\",   [3, 5, 9, 10, 2]],\n",
        "    [\"16-04-2025\", \"Wednesday\", [3, 6, 6, 9, 1]],\n",
        "    [\"17-04-2025\", \"Thursday\",  [1, 2, 9, 8, 4]]\n",
        "]\n",
        "\n",
        "new_driving_license = [\n",
        "    [\"13-04-2025\", \"Sunday\",    [2, 4, 9, 6, 2]],\n",
        "    [\"14-04-2025\", \"Monday\",    [2, 6, 8, 8, 1]],\n",
        "    [\"15-04-2025\", \"Tuesday\",   [4, 5, 6, 8, 2]],\n",
        "    [\"16-04-2025\", \"Wednesday\", [3, 10, 6, 10, 1]],\n",
        "    [\"17-04-2025\", \"Thursday\",  [2, 5, 10, 6, 2]]\n",
        "]\n",
        "\n",
        "renew_driving_license = [\n",
        "    [\"13-04-2025\", \"Sunday\",    [2, 6, 10, 8, 4]],\n",
        "    [\"14-04-2025\", \"Monday\",    [1, 3, 7, 7, 4]],\n",
        "    [\"15-04-2025\", \"Tuesday\",   [2, 6, 10, 6, 1]],\n",
        "    [\"16-04-2025\", \"Wednesday\", [2, 10, 7, 8, 1]],\n",
        "    [\"17-04-2025\", \"Thursday\",  [2, 7, 7, 7, 1]]\n",
        "]\n",
        "\n",
        "lost_id = [\n",
        "    [\"13-04-2025\", \"Sunday\",    [1, 3, 9, 8, 3]],\n",
        "    [\"14-04-2025\", \"Monday\",    [3, 9, 6, 6, 4]],\n",
        "    [\"15-04-2025\", \"Tuesday\",   [4, 7, 8, 7, 3]],\n",
        "    [\"16-04-2025\", \"Wednesday\", [3, 9, 6, 9, 4]],\n",
        "    [\"17-04-2025\", \"Thursday\",  [2, 4, 10, 7, 1]]\n",
        "]\n",
        "\n",
        "#*?_______________________the mean task_____________________________*#\n",
        "def mean(service):\n",
        "    items = []\n",
        "    for x in service:\n",
        "        reservation = x[2]\n",
        "        items.extend(reservation)\n",
        "    print(f\"The mean of first service is = {sum(items) / len(items)}\\n_________________\")\n",
        "\n",
        "#*?________________________ most crowded ______________________________*#\n",
        "\n",
        "def most_crowded(service_name):\n",
        "    total = []\n",
        "    for x in service_name:\n",
        "        day = x[1]\n",
        "        reservation = x[2]\n",
        "        total.append(sum(reservation))\n",
        "    max_index = total.index(max(total))\n",
        "    return service_name[max_index][1]\n",
        "#*? ________________________________ least crowded _______________________*#\n",
        "def least_crowded(service_name):\n",
        "    total = []\n",
        "    for x in service_name:\n",
        "        day = x[1]\n",
        "        reservation = x[2]\n",
        "        total.append(sum(reservation))\n",
        "    max_index = total.index(min(total))\n",
        "    return service_name[max_index][1]\n",
        "\n",
        "#todo ==>  calculation of the most & least crowded day and the mean for the first service :-\n",
        "mean(new_car_id)\n",
        "print(\" The first service :-\")\n",
        "print(f\"The most crowded day is {most_crowded(new_car_id)}\\nThe least crowded day is {least_crowded(new_car_id)}\\n___________________\")"
      ]
    }
  ],
  "metadata": {
    "kernelspec": {
      "display_name": "Python 3",
      "language": "python",
      "name": "python3"
    },
    "language_info": {
      "codemirror_mode": {
        "name": "ipython",
        "version": 3
      },
      "file_extension": ".py",
      "mimetype": "text/x-python",
      "name": "python",
      "nbconvert_exporter": "python",
      "pygments_lexer": "ipython3",
      "version": "3.13.1"
    },
    "colab": {
      "provenance": []
    }
  },
  "nbformat": 4,
  "nbformat_minor": 5
}